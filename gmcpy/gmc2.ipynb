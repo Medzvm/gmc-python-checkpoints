{
 "cells": [
  {
   "cell_type": "code",
   "execution_count": 17,
   "metadata": {},
   "outputs": [
    {
     "name": "stdout",
     "output_type": "stream",
     "text": [
      "36\n"
     ]
    }
   ],
   "source": [
    "Sample_list= [2, 3, 6]\n",
    "s=1\n",
    "for i in Sample_list:\n",
    "    s=s*i\n",
    "print(s)"
   ]
  },
  {
   "cell_type": "code",
   "execution_count": 25,
   "metadata": {},
   "outputs": [
    {
     "name": "stdout",
     "output_type": "stream",
     "text": [
      "[(2, 1), (1, 2), (2, 3), (4, 4), (2, 5)]\n"
     ]
    }
   ],
   "source": [
    "from operator import itemgetter\n",
    "\n",
    "\n",
    "list_tupled=[(2, 5), (1, 2), (4, 4), (2, 3), (2, 1)]\n",
    "list_tupled.sort(key=itemgetter(-1))\n",
    "print(list_tupled)"
   ]
  },
  {
   "cell_type": "code",
   "execution_count": 27,
   "metadata": {},
   "outputs": [
    {
     "name": "stdout",
     "output_type": "stream",
     "text": [
      "{'a': 400, 'd': 400, 'c': 300, 'b': 400}\n"
     ]
    }
   ],
   "source": [
    "d1 = {'a': 100, 'b': 200, 'c':300}\n",
    "\n",
    "d2 = {'a': 300, 'b': 200, 'd':400}\n",
    "\n",
    "\n",
    "\n",
    "d3 = {i: d1.get(i, 0) + d2.get(i, 0)\n",
    "     for i in set(d1).union(d2)}\n",
    "\n",
    "\n",
    "print(d3)"
   ]
  },
  {
   "cell_type": "code",
   "execution_count": 8,
   "metadata": {},
   "outputs": [
    {
     "name": "stdout",
     "output_type": "stream",
     "text": [
      "{0: 0, 1: 1, 2: 4, 3: 9, 4: 16, 5: 25, 6: 36, 7: 49, 8: 64, 9: 81, 10: 100}\n"
     ]
    }
   ],
   "source": [
    "n = int(input(\"N=\"))\n",
    "dict={}\n",
    "for i in range(0,n+1):\n",
    "    dict[i]=i*i\n",
    "   \n",
    "print(dict)"
   ]
  },
  {
   "cell_type": "code",
   "execution_count": null,
   "metadata": {},
   "outputs": [],
   "source": [
    "list= [('item1', '12.20'), ('item2', '15.10'), ('item3', '24.5')]\n"
   ]
  },
  {
   "cell_type": "code",
   "execution_count": 3,
   "metadata": {},
   "outputs": [
    {
     "name": "stdout",
     "output_type": "stream",
     "text": [
      "Tap : \n",
      " 1 to add \n",
      " 2 to remove \n",
      " 3 view items  \n",
      "['robe']\n",
      "[]\n"
     ]
    }
   ],
   "source": [
    "shopping_list=[]\n",
    "print(\"Tap : \\n 1 to add \\n 2 to remove \\n 3 view items  \")\n",
    "while True:\n",
    "    menu=int(input(\"make a selection from the menu : \"))\n",
    "    if menu == 1:\n",
    "        a=input(\"write what you want to add\")\n",
    "        if a not in shopping_list :\n",
    "            shopping_list.append(a)\n",
    "        else:\n",
    "            print(a,\"is already in your items \")\n",
    "    \n",
    "    elif menu == 2: \n",
    "        r=input(\"what you want to remove:\")\n",
    "        if r in shopping_list:\n",
    "            shopping_list.remove(r)\n",
    "        else:\n",
    "            r=input(\"what you want to remove:\")\n",
    "    elif menu == 3:\n",
    "        print(shopping_list)\n",
    "    else:\n",
    "        menu=int(input(\"make a selection from the menu : \"))\n",
    "\n",
    "\n",
    "\n"
   ]
  },
  {
   "cell_type": "code",
   "execution_count": null,
   "metadata": {},
   "outputs": [],
   "source": []
  }
 ],
 "metadata": {
  "kernelspec": {
   "display_name": "Python 3",
   "language": "python",
   "name": "python3"
  },
  "language_info": {
   "codemirror_mode": {
    "name": "ipython",
    "version": 3
   },
   "file_extension": ".py",
   "mimetype": "text/x-python",
   "name": "python",
   "nbconvert_exporter": "python",
   "pygments_lexer": "ipython3",
   "version": "3.11.7"
  }
 },
 "nbformat": 4,
 "nbformat_minor": 2
}
